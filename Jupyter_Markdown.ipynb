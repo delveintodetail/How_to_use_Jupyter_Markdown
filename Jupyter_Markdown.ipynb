{
 "cells": [
  {
   "cell_type": "markdown",
   "metadata": {
    "deletable": true,
    "editable": true
   },
   "source": [
    "# Learning Markdown in Jupyter\n",
    "## part 1\n",
    "## part 2\n",
    "### part 2.2\n",
    "\n",
    "Reference Material:\n",
    "http://nbviewer.jupyter.org/github/twistedhardware/mltutorial/blob/master/notebooks/jupyter/2.%20Markdown%20%26%20LaTeX.ipynb"
   ]
  },
  {
   "cell_type": "markdown",
   "metadata": {
    "deletable": true,
    "editable": true
   },
   "source": [
    "# Font\n",
    "\n",
    "__Bold Font__\n",
    "\n",
    "_Italic Font_"
   ]
  },
  {
   "cell_type": "markdown",
   "metadata": {
    "deletable": true,
    "editable": true
   },
   "source": [
    "# Item List\n",
    "- Part 1\n",
    "- Part 2 \n",
    " - Part 2.2\n",
    " - Part 2.3\n",
    "- Part 3"
   ]
  },
  {
   "cell_type": "markdown",
   "metadata": {
    "deletable": true,
    "editable": true
   },
   "source": [
    "\n",
    "www.github.com"
   ]
  },
  {
   "cell_type": "markdown",
   "metadata": {
    "deletable": true,
    "editable": true
   },
   "source": [
    "# HyperLink\n",
    "> [Andrej Karpathy](http://cs.stanford.edu/people/karpathy/)"
   ]
  },
  {
   "cell_type": "markdown",
   "metadata": {
    "deletable": true,
    "editable": true
   },
   "source": [
    "# Table\n",
    "\n",
    "| Tables | Are  | Cool |\n",
    "| --    :| --  :|   --:|\n",
    "| 1      | 2    |  3   |\n",
    "        "
   ]
  },
  {
   "cell_type": "markdown",
   "metadata": {
    "deletable": true,
    "editable": true
   },
   "source": [
    "# Code\n",
    "Python code:\n",
    "```python\n",
    "x = 5\n",
    "print(x)\n",
    "```\n",
    "Java Script Code:\n",
    "```\n",
    "x=5\n",
    "alert(x)\n",
    "```"
   ]
  },
  {
   "cell_type": "markdown",
   "metadata": {
    "deletable": true,
    "editable": true
   },
   "source": [
    "# Mathmatic Equation/Symbol\n",
    "- Add\n",
    " - $x + y$\n",
    "- Subtract\n",
    " - $x - y$\n",
    "- Multipl\n",
    " - $x * y$\n",
    " - $x.y$\n",
    "- Divide\n",
    " - $x/y$\n",
    " - $\\frac{x}{y}$\n",
    " \n",
    "$\\sum\\limits_{x=1}^{10} \\frac{1}{x}$"
   ]
  },
  {
   "cell_type": "markdown",
   "metadata": {
    "deletable": true,
    "editable": true
   },
   "source": [
    "# Image\n",
    "\n",
    "![Google Image](https://pbs.twimg.com/profile_images/733174243714682880/oyG30NEH.jpg 'sfdsd')"
   ]
  },
  {
   "cell_type": "code",
   "execution_count": null,
   "metadata": {
    "collapsed": true,
    "deletable": true,
    "editable": true
   },
   "outputs": [],
   "source": []
  }
 ],
 "metadata": {
  "kernelspec": {
   "display_name": "Python 2",
   "language": "python",
   "name": "python2"
  },
  "language_info": {
   "codemirror_mode": {
    "name": "ipython",
    "version": 2
   },
   "file_extension": ".py",
   "mimetype": "text/x-python",
   "name": "python",
   "nbconvert_exporter": "python",
   "pygments_lexer": "ipython2",
   "version": "2.7.13"
  }
 },
 "nbformat": 4,
 "nbformat_minor": 2
}
